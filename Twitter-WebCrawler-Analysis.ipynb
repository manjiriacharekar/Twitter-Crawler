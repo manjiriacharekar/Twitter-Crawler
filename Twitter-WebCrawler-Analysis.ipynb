{
 "cells": [
  {
   "cell_type": "markdown",
   "metadata": {},
   "source": [
    "# Twitter Crawler"
   ]
  },
  {
   "cell_type": "code",
   "execution_count": 10,
   "metadata": {},
   "outputs": [
    {
     "name": "stdout",
     "output_type": "stream",
     "text": [
      "Collecting pymongo\n",
      "  Downloading https://files.pythonhosted.org/packages/22/69/6f8358c6bbca32f1c94167ccab217bc6a70d17bdb10d4a71f4de96431e6e/pymongo-3.7.1-cp36-cp36m-macosx_10_6_intel.whl (341kB)\n",
      "\u001b[K    100% |████████████████████████████████| 348kB 2.9MB/s eta 0:00:01\n",
      "\u001b[?25hInstalling collected packages: pymongo\n",
      "Successfully installed pymongo-3.7.1\n",
      "\u001b[33mYou are using pip version 9.0.1, however version 18.0 is available.\n",
      "You should consider upgrading via the 'pip install --upgrade pip' command.\u001b[0m\n"
     ]
    }
   ],
   "source": [
    "import sys\n",
    "!{sys.executable} -m pip install pymongo"
   ]
  },
  {
   "cell_type": "code",
   "execution_count": 71,
   "metadata": {
    "collapsed": true
   },
   "outputs": [],
   "source": [
    "# Import Packages\n",
    "from selenium import webdriver\n",
    "from bs4 import BeautifulSoup\n",
    "import time\n",
    "import pymongo\n",
    "import numpy as np\n",
    "import pandas as pd"
   ]
  },
  {
   "cell_type": "code",
   "execution_count": 72,
   "metadata": {
    "collapsed": true
   },
   "outputs": [],
   "source": [
    "# Target URL\n",
    "url = \"https://www.twitter.com/Nike\""
   ]
  },
  {
   "cell_type": "code",
   "execution_count": 73,
   "metadata": {
    "collapsed": true
   },
   "outputs": [],
   "source": [
    "# Using Chrome WebDriver\n",
    "driver = webdriver.Chrome()\n",
    "driver.get(url)\n",
    "driver.maximize_window()"
   ]
  },
  {
   "cell_type": "code",
   "execution_count": 74,
   "metadata": {
    "collapsed": true
   },
   "outputs": [],
   "source": [
    "# Beautiful Soup scrolls down to the bottom of the page\n",
    "lastHeight = driver.execute_script(\"return document.body.scrollHeight\")\n",
    "while True:\n",
    "    driver.execute_script(\"window.scrollTo(0, document.body.scrollHeight);\")\n",
    "    time.sleep(2)\n",
    "    newHeight = driver.execute_script(\"return document.body.scrollHeight\")\n",
    "    if newHeight == lastHeight:\n",
    "        break\n",
    "    lastHeight = newHeight\n",
    "\n",
    "soupfetch = BeautifulSoup(driver.page_source, \"html.parser\")"
   ]
  },
  {
   "cell_type": "code",
   "execution_count": 112,
   "metadata": {
    "collapsed": true
   },
   "outputs": [],
   "source": [
    "# Extract Information from URL\n",
    "data = pd.DataFrame({'tweet': [], 'hashtag': [], 'mentions': [], 'no_of_replies': [], 'no_of_likes': [], 'no_of_retweets': [], 'date': [], 'time': []})"
   ]
  },
  {
   "cell_type": "code",
   "execution_count": 121,
   "metadata": {},
   "outputs": [],
   "source": [
    "import csv\n",
    "# Open/Create a file to append data\n",
    "csvFile = open('niketweets1.csv', 'w')\n",
    "#Use csv Writer\n",
    "csvWriter = csv.writer(csvFile)"
   ]
  },
  {
   "cell_type": "code",
   "execution_count": 122,
   "metadata": {
    "scrolled": true
   },
   "outputs": [],
   "source": [
    "twitterwebdata = soupfetch.find_all('div', {'class': 'content'})\n",
    "for twitter_tweet in twitterwebdata:\n",
    "    try:\n",
    "        tweet = twitter_tweet.find('p', {'class': 'TweetTextSize'}).text\n",
    "        #print(tweet)\n",
    "    except:\n",
    "        pass\n",
    "    \n",
    "    hashtag = []\n",
    "    for tag in twitter_tweet.find_all('a', {'class': 'twitter-hashtag'}):\n",
    "        hashtag.append(tag.text[1:])\n",
    "    if hashtag == []:\n",
    "        hashtag = np.NaN\n",
    "    #print(hashtag)\n",
    "    \n",
    "    mentions = []\n",
    "    for a in twitter_tweet.find_all('a', {'class': 'twitter-atreply'}):\n",
    "        try:\n",
    "            mentions.append(a['href'][1:])\n",
    "        except:\n",
    "            pass\n",
    "    if mentions == []:\n",
    "        mentions = np.NaN\n",
    "    #print(mentions)\n",
    "    \n",
    "    thumbs = twitter_tweet.find_all('span', \\\n",
    "                        {'class': 'ProfileTweet-actionCountForPresentation'})\n",
    "    try:\n",
    "        re = thumbs[0].text\n",
    "        if re[-1] == 'K':\n",
    "            re = int(float(re[:-1]) * 1000)\n",
    "        else:\n",
    "            re = int(float(re.encode))\n",
    "    except:\n",
    "        pass\n",
    "    #print(re)\n",
    "    \n",
    "    try:\n",
    "        like = thumbs[3].text\n",
    "        if like[-1] == 'K':\n",
    "            like = int(float(like[:-1])*1000)\n",
    "        else:\n",
    "            like = int(float(like))\n",
    "    except:\n",
    "        pass\n",
    "    #print(like)\n",
    "    \n",
    "    try:\n",
    "        retweet = thumbs[2].text\n",
    "        if retweet[-1] == 'K':\n",
    "            retweet = int(float(retweet[:-1])*1000)\n",
    "        else:\n",
    "            retweet = int(float(retweet))\n",
    "    except:\n",
    "        pass\n",
    "    #print(retweet)\n",
    "    try:\n",
    "        date = twitter_tweet.find(\"a\",attrs={\"class\":\"tweet-timestamp js-permalink js-nav js-tooltip\"})[\"title\"].split('-')[1]\n",
    "    except:\n",
    "        date = None\n",
    "        pass\n",
    "    #print(date)\n",
    "    \n",
    "    try:\n",
    "        time = twitter_tweet.find(\"a\",attrs={\"class\":\"tweet-timestamp js-permalink js-nav js-tooltip\"})[\"title\"].split('-')[0]\n",
    "    except:\n",
    "        time = None\n",
    "        pass\n",
    "    #print(time)\n",
    "    \n",
    "    #tweet_feed = {'tweet': tweet, 'hashtag': hashtag, 'mentions': mentions, \\\n",
    "                  #'no_of_replies': re, 'no_of_likes': like, 'no_of_retweets': retweet, 'date': date, 'time': time}\n",
    "    #data = data.append([pd.DataFrame(tweet_feed)], ignore_index=True)\n",
    "    #pd.Series(data).to_frame()\n",
    "    csvWriter.writerow([tweet, hashtag, mentions, re, like, retweet, date, time])"
   ]
  },
  {
   "cell_type": "code",
   "execution_count": null,
   "metadata": {
    "collapsed": true
   },
   "outputs": [],
   "source": []
  }
 ],
 "metadata": {
  "kernelspec": {
   "display_name": "Python 3",
   "language": "python",
   "name": "python3"
  },
  "language_info": {
   "codemirror_mode": {
    "name": "ipython",
    "version": 3
   },
   "file_extension": ".py",
   "mimetype": "text/x-python",
   "name": "python",
   "nbconvert_exporter": "python",
   "pygments_lexer": "ipython3",
   "version": "3.6.3"
  }
 },
 "nbformat": 4,
 "nbformat_minor": 2
}
